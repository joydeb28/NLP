{
 "cells": [
  {
   "cell_type": "code",
   "execution_count": 23,
   "metadata": {},
   "outputs": [],
   "source": [
    "import tensorflow as tf\n",
    "import numpy as np\n",
    "\n",
    "tf.reset_default_graph()\n",
    "\n",
    "sentences = [ \"i like dog\", \"i love coffee\", \"i hate milk\",\"i love you\",\"i love coffee\",\"i love you\"]\n",
    "\n",
    "class LanguageModel:\n",
    "    def __init__(self,sentences):\n",
    "        self.sentences = sentences\n",
    "    \n",
    "    def getWordsList(self):\n",
    "        words_list = self.sentences\n",
    "        word_list = \" \".join(sentences).split()\n",
    "        word_list = list(set(word_list))\n",
    "        return word_list\n",
    "        \n",
    "    def getWordsDict(self):\n",
    "        words_list = self.getWordsList()\n",
    "        word_dict = {w: i for i, w in enumerate(word_list)}\n",
    "        number_dict = {i: w for i, w in enumerate(word_list)}\n",
    "        return word_dict,number_dict\n",
    "                \n",
    "    def make_batch(self):\n",
    "        sentences = self.sentences\n",
    "        input_batch = []\n",
    "        target_batch = []\n",
    "\n",
    "        for sen in sentences:\n",
    "            word = sen.split()\n",
    "            input = [word_dict[n] for n in word[:-1]]\n",
    "            target = word_dict[word[-1]]\n",
    "\n",
    "            input_batch.append(np.eye(n_class)[input])\n",
    "            target_batch.append(np.eye(n_class)[target])\n",
    "\n",
    "        return input_batch, target_batch\n",
    "    \n",
    "LM = LanguageModel(sentences)\n",
    "words_list = LM.getWordsList()\n",
    "word_dict,number_dict = LM.getWordsDict()\n",
    "n_class = len(word_dict)\n",
    "\n",
    "\n",
    "# NNLM Parameter\n",
    "n_step = 2 # number of steps ['i like', 'i love', 'i hate']\n",
    "n_hidden = 2 \n"
   ]
  },
  {
   "cell_type": "code",
   "execution_count": 24,
   "metadata": {},
   "outputs": [],
   "source": [
    "# Model\n",
    "X = tf.placeholder(tf.float32, [None, n_step, n_class]) # [batch_size, number of steps, number of Vocabulary]\n",
    "Y = tf.placeholder(tf.float32, [None, n_class])\n",
    "\n",
    "input = tf.reshape(X, shape=[-1, n_step * n_class]) # [batch_size, n_step * n_class]\n",
    "H = tf.Variable(tf.random_normal([n_step * n_class, n_hidden]))\n",
    "d = tf.Variable(tf.random_normal([n_hidden]))\n",
    "U = tf.Variable(tf.random_normal([n_hidden, n_class]))\n",
    "b = tf.Variable(tf.random_normal([n_class]))\n",
    "\n",
    "tanh = tf.nn.tanh(d + tf.matmul(input, H)) # [batch_size, n_hidden]\n",
    "model = tf.matmul(tanh, U) + b # [batch_size, n_class]\n",
    "\n",
    "cost = tf.reduce_mean(tf.nn.softmax_cross_entropy_with_logits_v2(logits=model, labels=Y))\n",
    "optimizer = tf.train.AdamOptimizer(0.001).minimize(cost)\n",
    "prediction =tf.argmax(model, 1)"
   ]
  },
  {
   "cell_type": "code",
   "execution_count": 25,
   "metadata": {},
   "outputs": [
    {
     "name": "stdout",
     "output_type": "stream",
     "text": [
      "Epoch: 1000 cost = 1.118109\n",
      "Epoch: 2000 cost = 0.598899\n",
      "Epoch: 3000 cost = 0.503481\n",
      "Epoch: 4000 cost = 0.481435\n",
      "Epoch: 5000 cost = 0.472652\n"
     ]
    }
   ],
   "source": [
    "# Trainingyo\n",
    "init = tf.global_variables_initializer()\n",
    "sess = tf.Session()\n",
    "sess.run(init)\n",
    "\n",
    "input_batch, target_batch = LM.make_batch()\n",
    "\n",
    "for epoch in range(5000):\n",
    "    _, loss = sess.run([optimizer, cost], feed_dict={X: input_batch, Y: target_batch})\n",
    "    if (epoch + 1)%1000 == 0:\n",
    "        print('Epoch:', '%04d' % (epoch + 1), 'cost =', '{:.6f}'.format(loss))\n"
   ]
  },
  {
   "cell_type": "code",
   "execution_count": 26,
   "metadata": {},
   "outputs": [],
   "source": [
    "# Predict\n",
    "predict =  sess.run([prediction], feed_dict={X: input_batch})"
   ]
  },
  {
   "cell_type": "code",
   "execution_count": 27,
   "metadata": {},
   "outputs": [
    {
     "name": "stdout",
     "output_type": "stream",
     "text": [
      "[['i', 'like'], ['i', 'love'], ['i', 'hate'], ['i', 'love'], ['i', 'love'], ['i', 'love']] -> ['dog', 'coffee', 'milk', 'coffee', 'coffee', 'coffee']\n"
     ]
    }
   ],
   "source": [
    "# Test\n",
    "input = [sen.split()[:2] for sen in sentences]\n",
    "print([sen.split()[:2] for sen in sentences], '->', [number_dict[n] for n in predict[0]])"
   ]
  },
  {
   "cell_type": "code",
   "execution_count": null,
   "metadata": {},
   "outputs": [],
   "source": []
  }
 ],
 "metadata": {
  "kernelspec": {
   "display_name": "Python 3",
   "language": "python",
   "name": "python3"
  },
  "language_info": {
   "codemirror_mode": {
    "name": "ipython",
    "version": 3
   },
   "file_extension": ".py",
   "mimetype": "text/x-python",
   "name": "python",
   "nbconvert_exporter": "python",
   "pygments_lexer": "ipython3",
   "version": "3.6.7"
  }
 },
 "nbformat": 4,
 "nbformat_minor": 2
}
